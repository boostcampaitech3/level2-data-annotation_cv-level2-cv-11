{
 "cells": [
  {
   "cell_type": "code",
   "execution_count": 124,
   "id": "b8dd6508-33e4-402b-81e5-05c3375193b5",
   "metadata": {},
   "outputs": [],
   "source": [
    "import random\n",
    "from copy import deepcopy\n",
    "\n",
    "import os\n",
    "import json\n",
    "from pathlib import Path\n",
    "from easydict import EasyDict\n",
    "\n",
    "import json \n",
    "import numpy as np \n",
    "from sklearn.model_selection import StratifiedGroupKFold "
   ]
  },
  {
   "cell_type": "code",
   "execution_count": 148,
   "id": "055b57d9-10b8-46e3-9fe5-446a3b0c8ef5",
   "metadata": {
    "jupyter": {
     "source_hidden": true
    },
    "tags": []
   },
   "outputs": [],
   "source": [
    "config = EasyDict({\n",
    "    'input1_path': '/opt/ml/input/data/ICDAR17_Korean',\n",
    "    'input2_path': '/opt/ml/input2',\n",
    "    'total_path': '/opt/ml/level2-data-annotation_cv-level2-cv-11/SEUNGHYUN_WORKSPACE/data/',\n",
    "    'cv_path': '/opt/ml/cv',\n",
    "    'origin_remove_list': ['img_4005.jpg',\n",
    "                      'img_4002.jpg',\n",
    "                      'img_4401.jpg',\n",
    "                      'img_4407.jpg',\n",
    "                      'img_4295.jpg',\n",
    "                      'img_4697.jpg',\n",
    "                      'img_4586.jpg',\n",
    "                      'img_4058.jpg',\n",
    "                      'img_4217.jpg',\n",
    "                      'img_4201.jpg',\n",
    "                      'img_4192.jpg',\n",
    "                      'img_4180.jpg',\n",
    "                      'img_4036.jpg',\n",
    "                      'img_4044.jpg',\n",
    "                      'img_4097.jpg',\n",
    "                      'img_4040.jpg'],\n",
    "    'add_remove_list': ['20210913_003541.jpg',\n",
    "                         '20190625_140214.jpg',\n",
    "                         '20200918_202819.jpg',\n",
    "                         '20210910_141434.jpg',\n",
    "                         '20191222_225910.jpg',\n",
    "                         '20210913_003422.jpg',\n",
    "                         '20210913_003230.jpg',\n",
    "                         '20200812_155356.jpg',\n",
    "                         '20210910_125605.jpg',\n",
    "                         '20210108_230110.jpg',\n",
    "                         '20200825_205146.jpg',\n",
    "                         '20210111_200715.jpg',\n",
    "                         '20200902_162509.jpg',\n",
    "                         '20210908_200140.jpg',\n",
    "                         '20210908_125422.jpg',\n",
    "                         '20210114_173547.jpg',\n",
    "                         '20191219_170225.jpg',\n",
    "                         '20210911_130605.jpg',\n",
    "                         '0N8A5655.jpg',\n",
    "                         '20201224_124508.jpg',\n",
    "                         '20210908_130808.jpg',\n",
    "                         '20210913_003516.jpg',\n",
    "                         '20210913_001739.jpg',\n",
    "                         '20210913_003852.jpg',\n",
    "                         '20200829_012546.jpg',\n",
    "                         '20171208_190335.jpg',\n",
    "                         '20210908_125601.jpg',\n",
    "                         '20191017_171859.jpg',\n",
    "                         '20210908_125614.jpg',\n",
    "                         '20210909_164347.jpg',\n",
    "                         '20210909_235358.jpg',\n",
    "                         '20171115_221838.jpg',\n",
    "                         '20210909_175403.jpg',\n",
    "                         '20171230_134905.jpg',\n",
    "                         '20200731_194958.jpg',\n",
    "                         '20200830_143751.jpg',\n",
    "                         '20200906_182628.jpg',\n",
    "                         '20191222_173310.jpg',\n",
    "                         '20200729_174803.jpg',\n",
    "                         '20201202_222753.jpg',\n",
    "                         '20210913_002916.jpg',\n",
    "                         '20180601_164446.jpg',\n",
    "                         '20201029_020252.jpg',\n",
    "                         '20201223_155117.jpg',\n",
    "                         '20210909_122213.jpg',\n",
    "                         '20171031_135049.jpg',\n",
    "                         '20200823_212502.jpg',\n",
    "                         '20210910_125221.jpg',\n",
    "                         '20200330_233903.jpg',\n",
    "                         '20210909_173711.jpg',\n",
    "                         '20210918_220739.jpg',\n",
    "                         '20210916_201117.jpg',\n",
    "                         '20210919_135518.jpg',\n",
    "                         '20210918_225734.jpg',\n",
    "                         '20210919_131146.jpg',\n",
    "                         '20210918_222840.jpg',\n",
    "                         '20210919_134038.jpg',\n",
    "                         '20210919_150838.jpg',\n",
    "                         '20210916_201112.jpg',\n",
    "                         '20210918_224758.jpg',\n",
    "                         '20210918_215341.jpg',\n",
    "                         '20210916_201149.jpg',\n",
    "                         '20210919_151957.jpg',\n",
    "                         '20210917_130432.jpg',\n",
    "                         '20210916_202324.jpg',\n",
    "                         '20210918_223047.jpg',\n",
    "                         '20210916_131555.jpg',\n",
    "                         '20210918_220749.jpg',\n",
    "                         '20210918_221735.jpg',\n",
    "                         '20210918_224842.jpg',\n",
    "                         '20210918_224303.jpg',\n",
    "                         '20210918_223900.jpg',\n",
    "                         '20210916_204603.jpg',\n",
    "                         '20210918_223307.jpg',\n",
    "                         '20210916_204628.jpg',\n",
    "                         '20210916_201426.jpg',\n",
    "                         '20210919_131139.jpg',\n",
    "                         '20210916_204605.jpg',\n",
    "                         '20210916_202328.jpg',\n",
    "                         '20210918_230745.jpg',\n",
    "                         '20210918_105750.jpg',\n",
    "                         '20210918_224054.jpg',\n",
    "                         '20210916_201233.jpg',\n",
    "                         '20210915_205259.jpg',\n",
    "                         '20210919_140711.jpg',\n",
    "                         '20210919_132422.jpg',\n",
    "                         '20210916_203133.jpg',\n",
    "                         '20210919_151337.jpg',\n",
    "                         '20210917_130459.jpg',\n",
    "                         '20210919_151055.jpg',\n",
    "                         '20210916_204517.jpg',\n",
    "                         '20210916_203124.jpg',\n",
    "                         '20210916_201257.jpg',\n",
    "                         '20210918_230051.jpg',\n",
    "                         '20210918_211449.jpg',\n",
    "                         '20210916_201721.jpg',\n",
    "                         '20210916_201047.jpg',\n",
    "                         '20210919_152015.jpg',\n",
    "                         '20210916_200748.jpg',\n",
    "                         '20210918_225710.jpg',\n",
    "                         '20210918_225248.jpg',\n",
    "                         '1632655330045-20.jpg',\n",
    "                         '1632650015287-8.jpg',\n",
    "                         '20210926_152812.jpg',\n",
    "                         '1632650015287-23.jpg',\n",
    "                         '1632646840914-3.jpg',\n",
    "                         '1632646840914-24.jpg',\n",
    "                         '20210926_153602.jpg',\n",
    "                         '20210926_104838.jpg',\n",
    "                         '1632640391949-4.jpg',\n",
    "                         '20210925_135728.jpg',\n",
    "                         '20210926_104458.jpg',\n",
    "                         '20210922_141543.jpg',\n",
    "                         '20210925_134733.jpg',\n",
    "                         '20210925_135221.jpg',\n",
    "                         '20210920_112933.jpg',\n",
    "                         '20210919_165118.jpg',\n",
    "                         '20210925_135858.jpg',\n",
    "                         '20210913_222612.jpeg',\n",
    "                         '20210915_193912.jpeg',\n",
    "                         '20210913_005440.jpg',\n",
    "                         '20210914_222525.jpg',\n",
    "                         '20210913_005959.jpg',\n",
    "                         '20210913_005210.jpg',\n",
    "                         '20210915_193809.jpeg',\n",
    "                         '20210913_005932.jpg',\n",
    "                         '20210915_193839.jpeg'] \n",
    "    })"
   ]
  },
  {
   "cell_type": "code",
   "execution_count": 207,
   "id": "b625bfc7-11ba-4fe4-9d08-03b9d1755edb",
   "metadata": {},
   "outputs": [],
   "source": [
    "# data = read_json(os.path.join(config.input1_path, 'ufo/train.json'))\n",
    "# add_data = read_json(os.path.join(config.input2_path, 'ufo/train.json'))"
   ]
  },
  {
   "cell_type": "code",
   "execution_count": 205,
   "id": "078e2e0c-e096-4ec2-b648-717071f2efc5",
   "metadata": {
    "tags": []
   },
   "outputs": [],
   "source": [
    "# rm_list = [i.split('.')[0] for i in config.add_remove_list]\n",
    "# counter=0\n",
    "# final_add_data = deepcopy(add_data)\n",
    "# for f in add_data['images']:\n",
    "#     fname = f.split('.')[0]\n",
    "#     if fname in rm_list:\n",
    "#         counter+=1\n",
    "        \n",
    "#         final_add_data['images'].pop(f)"
   ]
  },
  {
   "cell_type": "code",
   "execution_count": 209,
   "id": "7188fe7e-bd3b-4792-9737-cd953805f942",
   "metadata": {},
   "outputs": [],
   "source": [
    "# len(add_data['images']), len(final_add_data['images'])"
   ]
  },
  {
   "cell_type": "code",
   "execution_count": 210,
   "id": "68abf801-3746-43b5-adc1-9ca06b1d5e1c",
   "metadata": {},
   "outputs": [],
   "source": [
    "# with open(os.path.join(config.total_path, \"new_additional_train.json\"), \"w\") as json_file:\n",
    "#     json.dump(final_add_data, json_file)"
   ]
  },
  {
   "cell_type": "markdown",
   "id": "c3a791a1-12f8-4f33-9407-59bcb05b1b1b",
   "metadata": {},
   "source": [
    "## From Here"
   ]
  },
  {
   "cell_type": "code",
   "execution_count": 211,
   "id": "5cf563f0-15e1-4db3-8d73-0efb6ad0c261",
   "metadata": {},
   "outputs": [],
   "source": [
    "data = read_json(os.path.join(config.total_path, 'new_origin_train.json'))\n",
    "add_data = read_json(os.path.join(config.total_path, 'new_additional_train.json'))\n",
    "\n",
    "data['images'].update(add_data['images'])"
   ]
  },
  {
   "cell_type": "code",
   "execution_count": 212,
   "id": "f2bdf9b5-77da-48a7-84c5-e5a8e9977b8d",
   "metadata": {},
   "outputs": [
    {
     "data": {
      "text/plain": [
       "(1681, 1161)"
      ]
     },
     "execution_count": 212,
     "metadata": {},
     "output_type": "execute_result"
    }
   ],
   "source": [
    "len(data['images']), len(add_data['images'])"
   ]
  },
  {
   "cell_type": "code",
   "execution_count": 214,
   "id": "06868adc-9daa-4c3b-be71-e5c5f50734fc",
   "metadata": {},
   "outputs": [],
   "source": [
    "### Save ###\n",
    "# with open(os.path.join(config.total_path, \"new_total_train.json\"), \"w\") as json_file:\n",
    "#     json.dump(data, json_file)"
   ]
  },
  {
   "cell_type": "code",
   "execution_count": 7,
   "id": "a893e953-8118-48f5-af39-d48a25916735",
   "metadata": {},
   "outputs": [],
   "source": [
    "def read_json(filename):\n",
    "    with Path(filename).open(encoding='utf8') as handle:\n",
    "        ann = json.load(handle)\n",
    "    return ann\n",
    "\n",
    "def write_json(data, filename, savepath):\n",
    "    with open(os.path.join(savepath, filename), \"w\") as json_file:\n",
    "        json.dump(data, json_file)\n",
    "        print('saved')"
   ]
  },
  {
   "cell_type": "markdown",
   "id": "f6e819ff-344c-4214-832c-296a7a11f50a",
   "metadata": {},
   "source": [
    "# 8:2 임의 split"
   ]
  },
  {
   "cell_type": "code",
   "execution_count": 200,
   "id": "c805cabf-62db-4baf-9f65-2e2852aa2d29",
   "metadata": {},
   "outputs": [],
   "source": [
    "def data_split(total_data, val_size=0.2):\n",
    "    ann = deepcopy(total_data)\n",
    "    val_size = int(len(ann['images']) * val_size)\n",
    "    \n",
    "    random.seed(42)\n",
    "    \n",
    "    val_ann = {}\n",
    "    val_ann['images'] = {}\n",
    "    \n",
    "    val_imgs = random.sample(list(ann['images'].keys()), val_size)\n",
    "    \n",
    "    for f in val_imgs:\n",
    "        data = ann['images'][f]\n",
    "        val_ann['images'][f] = data\n",
    "\n",
    "        ann['images'].pop(f)\n",
    "        \n",
    "    return ann, val_ann"
   ]
  },
  {
   "cell_type": "code",
   "execution_count": 201,
   "id": "f5668ac5-25e4-4097-8039-410fbf738a56",
   "metadata": {},
   "outputs": [],
   "source": [
    "if not os.path.exists(config.cv_path):\n",
    "    os.makedirs(config.cv_path)"
   ]
  },
  {
   "cell_type": "code",
   "execution_count": 203,
   "id": "6c19ad9c-421e-4f4c-82f1-a3dfde89a2db",
   "metadata": {},
   "outputs": [],
   "source": [
    "train_ann, val_ann = data_split(data, 0.2)"
   ]
  },
  {
   "cell_type": "code",
   "execution_count": 204,
   "id": "b1a95199-48f4-44f4-8f23-cebc3552ec45",
   "metadata": {},
   "outputs": [
    {
     "name": "stdout",
     "output_type": "stream",
     "text": [
      "1345 336\n",
      "saved\n",
      "saved\n"
     ]
    }
   ],
   "source": [
    "print(len(train_ann['images']), len(val_ann['images']))\n",
    "write_json(train_ann, 'cv_new_train.json', config.cv_path)\n",
    "write_json(val_ann, 'cv_new_val.json', config.cv_path)"
   ]
  },
  {
   "cell_type": "code",
   "execution_count": null,
   "id": "dea8dc33-2322-485a-b6de-23e78ce99407",
   "metadata": {},
   "outputs": [],
   "source": [
    "# 이미지 태그\n",
    "# 이미지당 단어 개수\n",
    "# 단어 태그\n",
    "# 언어\n",
    "# 방향"
   ]
  },
  {
   "cell_type": "code",
   "execution_count": null,
   "id": "3b5eb59c-be46-41a7-97bf-6076fc4d34ce",
   "metadata": {},
   "outputs": [],
   "source": [
    "# 'img_h', 'img_w', 'words', 'tags'"
   ]
  },
  {
   "cell_type": "code",
   "execution_count": 21,
   "id": "879adc47-27cc-4f94-930a-96778cda122c",
   "metadata": {},
   "outputs": [
    {
     "data": {
      "text/plain": [
       "dict_keys(['img_h', 'img_w', 'words', 'tags', 'license_tag'])"
      ]
     },
     "execution_count": 21,
     "metadata": {},
     "output_type": "execute_result"
    }
   ],
   "source": [
    "total['images']['img_4380.jpg'].keys()"
   ]
  },
  {
   "cell_type": "code",
   "execution_count": null,
   "id": "ea29c530-e310-4417-b86a-77f5583662fc",
   "metadata": {},
   "outputs": [
    {
     "data": {
      "text/plain": [
       "dict_keys(['paragraphs', 'words', 'chars', 'img_w', 'img_h', 'tags', 'relations', 'annotation_log', 'license_tag'])"
      ]
     },
     "execution_count": 20,
     "metadata": {},
     "output_type": "execute_result"
    }
   ],
   "source": [
    "total['images']['20210913_004323.jpg'].keys()"
   ]
  }
 ],
 "metadata": {
  "kernelspec": {
   "display_name": "Python 3 (ipykernel)",
   "language": "python",
   "name": "python3"
  },
  "language_info": {
   "codemirror_mode": {
    "name": "ipython",
    "version": 3
   },
   "file_extension": ".py",
   "mimetype": "text/x-python",
   "name": "python",
   "nbconvert_exporter": "python",
   "pygments_lexer": "ipython3",
   "version": "3.8.5"
  }
 },
 "nbformat": 4,
 "nbformat_minor": 5
}
