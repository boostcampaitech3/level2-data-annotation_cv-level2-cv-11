{
 "cells": [
  {
   "cell_type": "code",
   "execution_count": 1,
   "id": "b8dd6508-33e4-402b-81e5-05c3375193b5",
   "metadata": {},
   "outputs": [],
   "source": [
    "import random\n",
    "from copy import deepcopy\n",
    "\n",
    "import os\n",
    "import json\n",
    "from pathlib import Path\n",
    "from easydict import EasyDict\n",
    "\n",
    "import json \n",
    "import numpy as np \n",
    "from sklearn.model_selection import StratifiedGroupKFold "
   ]
  },
  {
   "cell_type": "code",
   "execution_count": 148,
   "id": "055b57d9-10b8-46e3-9fe5-446a3b0c8ef5",
   "metadata": {
    "jupyter": {
     "source_hidden": true
    },
    "tags": []
   },
   "outputs": [],
   "source": [
    "config = EasyDict({\n",
    "    'input1_path': '/opt/ml/input/data/ICDAR17_Korean',\n",
    "    'input2_path': '/opt/ml/input2',\n",
    "    'total_path': '/opt/ml/level2-data-annotation_cv-level2-cv-11/SEUNGHYUN_WORKSPACE/data/',\n",
    "    'cv_path': '/opt/ml/cv',\n",
    "    'origin_remove_list': ['img_4005.jpg',\n",
    "                      'img_4002.jpg',\n",
    "                      'img_4401.jpg',\n",
    "                      'img_4407.jpg',\n",
    "                      'img_4295.jpg',\n",
    "                      'img_4697.jpg',\n",
    "                      'img_4586.jpg',\n",
    "                      'img_4058.jpg',\n",
    "                      'img_4217.jpg',\n",
    "                      'img_4201.jpg',\n",
    "                      'img_4192.jpg',\n",
    "                      'img_4180.jpg',\n",
    "                      'img_4036.jpg',\n",
    "                      'img_4044.jpg',\n",
    "                      'img_4097.jpg',\n",
    "                      'img_4040.jpg'],\n",
    "    'add_remove_list': ['20210913_003541.jpg',\n",
    "                         '20190625_140214.jpg',\n",
    "                         '20200918_202819.jpg',\n",
    "                         '20210910_141434.jpg',\n",
    "                         '20191222_225910.jpg',\n",
    "                         '20210913_003422.jpg',\n",
    "                         '20210913_003230.jpg',\n",
    "                         '20200812_155356.jpg',\n",
    "                         '20210910_125605.jpg',\n",
    "                         '20210108_230110.jpg',\n",
    "                         '20200825_205146.jpg',\n",
    "                         '20210111_200715.jpg',\n",
    "                         '20200902_162509.jpg',\n",
    "                         '20210908_200140.jpg',\n",
    "                         '20210908_125422.jpg',\n",
    "                         '20210114_173547.jpg',\n",
    "                         '20191219_170225.jpg',\n",
    "                         '20210911_130605.jpg',\n",
    "                         '0N8A5655.jpg',\n",
    "                         '20201224_124508.jpg',\n",
    "                         '20210908_130808.jpg',\n",
    "                         '20210913_003516.jpg',\n",
    "                         '20210913_001739.jpg',\n",
    "                         '20210913_003852.jpg',\n",
    "                         '20200829_012546.jpg',\n",
    "                         '20171208_190335.jpg',\n",
    "                         '20210908_125601.jpg',\n",
    "                         '20191017_171859.jpg',\n",
    "                         '20210908_125614.jpg',\n",
    "                         '20210909_164347.jpg',\n",
    "                         '20210909_235358.jpg',\n",
    "                         '20171115_221838.jpg',\n",
    "                         '20210909_175403.jpg',\n",
    "                         '20171230_134905.jpg',\n",
    "                         '20200731_194958.jpg',\n",
    "                         '20200830_143751.jpg',\n",
    "                         '20200906_182628.jpg',\n",
    "                         '20191222_173310.jpg',\n",
    "                         '20200729_174803.jpg',\n",
    "                         '20201202_222753.jpg',\n",
    "                         '20210913_002916.jpg',\n",
    "                         '20180601_164446.jpg',\n",
    "                         '20201029_020252.jpg',\n",
    "                         '20201223_155117.jpg',\n",
    "                         '20210909_122213.jpg',\n",
    "                         '20171031_135049.jpg',\n",
    "                         '20200823_212502.jpg',\n",
    "                         '20210910_125221.jpg',\n",
    "                         '20200330_233903.jpg',\n",
    "                         '20210909_173711.jpg',\n",
    "                         '20210918_220739.jpg',\n",
    "                         '20210916_201117.jpg',\n",
    "                         '20210919_135518.jpg',\n",
    "                         '20210918_225734.jpg',\n",
    "                         '20210919_131146.jpg',\n",
    "                         '20210918_222840.jpg',\n",
    "                         '20210919_134038.jpg',\n",
    "                         '20210919_150838.jpg',\n",
    "                         '20210916_201112.jpg',\n",
    "                         '20210918_224758.jpg',\n",
    "                         '20210918_215341.jpg',\n",
    "                         '20210916_201149.jpg',\n",
    "                         '20210919_151957.jpg',\n",
    "                         '20210917_130432.jpg',\n",
    "                         '20210916_202324.jpg',\n",
    "                         '20210918_223047.jpg',\n",
    "                         '20210916_131555.jpg',\n",
    "                         '20210918_220749.jpg',\n",
    "                         '20210918_221735.jpg',\n",
    "                         '20210918_224842.jpg',\n",
    "                         '20210918_224303.jpg',\n",
    "                         '20210918_223900.jpg',\n",
    "                         '20210916_204603.jpg',\n",
    "                         '20210918_223307.jpg',\n",
    "                         '20210916_204628.jpg',\n",
    "                         '20210916_201426.jpg',\n",
    "                         '20210919_131139.jpg',\n",
    "                         '20210916_204605.jpg',\n",
    "                         '20210916_202328.jpg',\n",
    "                         '20210918_230745.jpg',\n",
    "                         '20210918_105750.jpg',\n",
    "                         '20210918_224054.jpg',\n",
    "                         '20210916_201233.jpg',\n",
    "                         '20210915_205259.jpg',\n",
    "                         '20210919_140711.jpg',\n",
    "                         '20210919_132422.jpg',\n",
    "                         '20210916_203133.jpg',\n",
    "                         '20210919_151337.jpg',\n",
    "                         '20210917_130459.jpg',\n",
    "                         '20210919_151055.jpg',\n",
    "                         '20210916_204517.jpg',\n",
    "                         '20210916_203124.jpg',\n",
    "                         '20210916_201257.jpg',\n",
    "                         '20210918_230051.jpg',\n",
    "                         '20210918_211449.jpg',\n",
    "                         '20210916_201721.jpg',\n",
    "                         '20210916_201047.jpg',\n",
    "                         '20210919_152015.jpg',\n",
    "                         '20210916_200748.jpg',\n",
    "                         '20210918_225710.jpg',\n",
    "                         '20210918_225248.jpg',\n",
    "                         '1632655330045-20.jpg',\n",
    "                         '1632650015287-8.jpg',\n",
    "                         '20210926_152812.jpg',\n",
    "                         '1632650015287-23.jpg',\n",
    "                         '1632646840914-3.jpg',\n",
    "                         '1632646840914-24.jpg',\n",
    "                         '20210926_153602.jpg',\n",
    "                         '20210926_104838.jpg',\n",
    "                         '1632640391949-4.jpg',\n",
    "                         '20210925_135728.jpg',\n",
    "                         '20210926_104458.jpg',\n",
    "                         '20210922_141543.jpg',\n",
    "                         '20210925_134733.jpg',\n",
    "                         '20210925_135221.jpg',\n",
    "                         '20210920_112933.jpg',\n",
    "                         '20210919_165118.jpg',\n",
    "                         '20210925_135858.jpg',\n",
    "                         '20210913_222612.jpeg',\n",
    "                         '20210915_193912.jpeg',\n",
    "                         '20210913_005440.jpg',\n",
    "                         '20210914_222525.jpg',\n",
    "                         '20210913_005959.jpg',\n",
    "                         '20210913_005210.jpg',\n",
    "                         '20210915_193809.jpeg',\n",
    "                         '20210913_005932.jpg',\n",
    "                         '20210915_193839.jpeg'] \n",
    "    })"
   ]
  },
  {
   "cell_type": "code",
   "execution_count": 207,
   "id": "b625bfc7-11ba-4fe4-9d08-03b9d1755edb",
   "metadata": {},
   "outputs": [],
   "source": [
    "# data = read_json(os.path.join(config.input1_path, 'ufo/train.json'))\n",
    "# add_data = read_json(os.path.join(config.input2_path, 'ufo/train.json'))"
   ]
  },
  {
   "cell_type": "code",
   "execution_count": 205,
   "id": "078e2e0c-e096-4ec2-b648-717071f2efc5",
   "metadata": {
    "tags": []
   },
   "outputs": [],
   "source": [
    "# rm_list = [i.split('.')[0] for i in config.add_remove_list]\n",
    "# counter=0\n",
    "# final_add_data = deepcopy(add_data)\n",
    "# for f in add_data['images']:\n",
    "#     fname = f.split('.')[0]\n",
    "#     if fname in rm_list:\n",
    "#         counter+=1\n",
    "        \n",
    "#         final_add_data['images'].pop(f)"
   ]
  },
  {
   "cell_type": "code",
   "execution_count": 209,
   "id": "7188fe7e-bd3b-4792-9737-cd953805f942",
   "metadata": {},
   "outputs": [],
   "source": [
    "# len(add_data['images']), len(final_add_data['images'])"
   ]
  },
  {
   "cell_type": "code",
   "execution_count": 210,
   "id": "68abf801-3746-43b5-adc1-9ca06b1d5e1c",
   "metadata": {},
   "outputs": [],
   "source": [
    "# with open(os.path.join(config.total_path, \"new_additional_train.json\"), \"w\") as json_file:\n",
    "#     json.dump(final_add_data, json_file)"
   ]
  },
  {
   "cell_type": "markdown",
   "id": "c3a791a1-12f8-4f33-9407-59bcb05b1b1b",
   "metadata": {},
   "source": [
    "## From Here"
   ]
  },
  {
   "cell_type": "code",
   "execution_count": 2,
   "id": "5cf563f0-15e1-4db3-8d73-0efb6ad0c261",
   "metadata": {},
   "outputs": [
    {
     "ename": "NameError",
     "evalue": "name 'read_json' is not defined",
     "output_type": "error",
     "traceback": [
      "\u001b[0;31m---------------------------------------------------------------------------\u001b[0m",
      "\u001b[0;31mNameError\u001b[0m                                 Traceback (most recent call last)",
      "\u001b[0;32m/tmp/ipykernel_16203/545870416.py\u001b[0m in \u001b[0;36m<module>\u001b[0;34m\u001b[0m\n\u001b[0;32m----> 1\u001b[0;31m \u001b[0mdata\u001b[0m \u001b[0;34m=\u001b[0m \u001b[0mread_json\u001b[0m\u001b[0;34m(\u001b[0m\u001b[0mos\u001b[0m\u001b[0;34m.\u001b[0m\u001b[0mpath\u001b[0m\u001b[0;34m.\u001b[0m\u001b[0mjoin\u001b[0m\u001b[0;34m(\u001b[0m\u001b[0mconfig\u001b[0m\u001b[0;34m.\u001b[0m\u001b[0mtotal_path\u001b[0m\u001b[0;34m,\u001b[0m \u001b[0;34m'new_origin_train.json'\u001b[0m\u001b[0;34m)\u001b[0m\u001b[0;34m)\u001b[0m\u001b[0;34m\u001b[0m\u001b[0;34m\u001b[0m\u001b[0m\n\u001b[0m\u001b[1;32m      2\u001b[0m \u001b[0madd_data\u001b[0m \u001b[0;34m=\u001b[0m \u001b[0mread_json\u001b[0m\u001b[0;34m(\u001b[0m\u001b[0mos\u001b[0m\u001b[0;34m.\u001b[0m\u001b[0mpath\u001b[0m\u001b[0;34m.\u001b[0m\u001b[0mjoin\u001b[0m\u001b[0;34m(\u001b[0m\u001b[0mconfig\u001b[0m\u001b[0;34m.\u001b[0m\u001b[0mtotal_path\u001b[0m\u001b[0;34m,\u001b[0m \u001b[0;34m'new_additional_train.json'\u001b[0m\u001b[0;34m)\u001b[0m\u001b[0;34m)\u001b[0m\u001b[0;34m\u001b[0m\u001b[0;34m\u001b[0m\u001b[0m\n\u001b[1;32m      3\u001b[0m \u001b[0;34m\u001b[0m\u001b[0m\n\u001b[1;32m      4\u001b[0m \u001b[0mdata\u001b[0m\u001b[0;34m[\u001b[0m\u001b[0;34m'images'\u001b[0m\u001b[0;34m]\u001b[0m\u001b[0;34m.\u001b[0m\u001b[0mupdate\u001b[0m\u001b[0;34m(\u001b[0m\u001b[0madd_data\u001b[0m\u001b[0;34m[\u001b[0m\u001b[0;34m'images'\u001b[0m\u001b[0;34m]\u001b[0m\u001b[0;34m)\u001b[0m\u001b[0;34m\u001b[0m\u001b[0;34m\u001b[0m\u001b[0m\n",
      "\u001b[0;31mNameError\u001b[0m: name 'read_json' is not defined"
     ]
    }
   ],
   "source": [
    "data = read_json(os.path.join(config.total_path, 'new_origin_train.json'))\n",
    "add_data = read_json(os.path.join(config.total_path, 'new_additional_train.json'))\n",
    "\n",
    "data['images'].update(add_data['images'])"
   ]
  },
  {
   "cell_type": "code",
   "execution_count": 212,
   "id": "f2bdf9b5-77da-48a7-84c5-e5a8e9977b8d",
   "metadata": {},
   "outputs": [
    {
     "data": {
      "text/plain": [
       "(1681, 1161)"
      ]
     },
     "execution_count": 212,
     "metadata": {},
     "output_type": "execute_result"
    }
   ],
   "source": [
    "len(data['images']), len(add_data['images'])"
   ]
  },
  {
   "cell_type": "code",
   "execution_count": 214,
   "id": "06868adc-9daa-4c3b-be71-e5c5f50734fc",
   "metadata": {},
   "outputs": [],
   "source": [
    "### Save ###\n",
    "# with open(os.path.join(config.total_path, \"new_total_train.json\"), \"w\") as json_file:\n",
    "#     json.dump(data, json_file)"
   ]
  },
  {
   "cell_type": "code",
   "execution_count": 3,
   "id": "a893e953-8118-48f5-af39-d48a25916735",
   "metadata": {},
   "outputs": [],
   "source": [
    "def read_json(filename):\n",
    "    with Path(filename).open(encoding='utf8') as handle:\n",
    "        ann = json.load(handle)\n",
    "    return ann\n",
    "\n",
    "def write_json(data, filename, savepath):\n",
    "    with open(os.path.join(savepath, filename), \"w\") as json_file:\n",
    "        json.dump(data, json_file)\n",
    "        print('saved')"
   ]
  },
  {
   "cell_type": "code",
   "execution_count": 6,
   "id": "e6254f14-8ce0-4579-a33f-2c4bd13f0310",
   "metadata": {},
   "outputs": [],
   "source": [
    "total = read_json('/opt/ml/level2-data-annotation_cv-level2-cv-11/SEUNGHYUN_WORKSPACE/data/icdar19_and_total.json')"
   ]
  },
  {
   "cell_type": "markdown",
   "id": "f6e819ff-344c-4214-832c-296a7a11f50a",
   "metadata": {},
   "source": [
    "# 8:2 임의 split"
   ]
  },
  {
   "cell_type": "code",
   "execution_count": 200,
   "id": "c805cabf-62db-4baf-9f65-2e2852aa2d29",
   "metadata": {},
   "outputs": [],
   "source": [
    "def data_split(total_data, val_size=0.2):\n",
    "    ann = deepcopy(total_data)\n",
    "    val_size = int(len(ann['images']) * val_size)\n",
    "    \n",
    "    random.seed(42)\n",
    "    \n",
    "    val_ann = {}\n",
    "    val_ann['images'] = {}\n",
    "    \n",
    "    val_imgs = random.sample(list(ann['images'].keys()), val_size)\n",
    "    \n",
    "    for f in val_imgs:\n",
    "        data = ann['images'][f]\n",
    "        val_ann['images'][f] = data\n",
    "\n",
    "        ann['images'].pop(f)\n",
    "        \n",
    "    return ann, val_ann"
   ]
  },
  {
   "cell_type": "code",
   "execution_count": 201,
   "id": "f5668ac5-25e4-4097-8039-410fbf738a56",
   "metadata": {},
   "outputs": [],
   "source": [
    "if not os.path.exists(config.cv_path):\n",
    "    os.makedirs(config.cv_path)"
   ]
  },
  {
   "cell_type": "code",
   "execution_count": 203,
   "id": "6c19ad9c-421e-4f4c-82f1-a3dfde89a2db",
   "metadata": {},
   "outputs": [],
   "source": [
    "train_ann, val_ann = data_split(data, 0.2)"
   ]
  },
  {
   "cell_type": "code",
   "execution_count": 204,
   "id": "b1a95199-48f4-44f4-8f23-cebc3552ec45",
   "metadata": {},
   "outputs": [
    {
     "name": "stdout",
     "output_type": "stream",
     "text": [
      "1345 336\n",
      "saved\n",
      "saved\n"
     ]
    }
   ],
   "source": [
    "print(len(train_ann['images']), len(val_ann['images']))\n",
    "write_json(train_ann, 'cv_new_train.json', config.cv_path)\n",
    "write_json(val_ann, 'cv_new_val.json', config.cv_path)"
   ]
  },
  {
   "cell_type": "code",
   "execution_count": null,
   "id": "dea8dc33-2322-485a-b6de-23e78ce99407",
   "metadata": {},
   "outputs": [],
   "source": [
    "# 이미지 태그\n",
    "# 이미지당 단어 개수\n",
    "# 단어 태그\n",
    "# 언어\n",
    "# 방향"
   ]
  },
  {
   "cell_type": "code",
   "execution_count": null,
   "id": "3b5eb59c-be46-41a7-97bf-6076fc4d34ce",
   "metadata": {},
   "outputs": [],
   "source": [
    "# 'img_h', 'img_w', 'words', 'tags'"
   ]
  },
  {
   "cell_type": "code",
   "execution_count": 21,
   "id": "879adc47-27cc-4f94-930a-96778cda122c",
   "metadata": {},
   "outputs": [
    {
     "data": {
      "text/plain": [
       "dict_keys(['img_h', 'img_w', 'words', 'tags', 'license_tag'])"
      ]
     },
     "execution_count": 21,
     "metadata": {},
     "output_type": "execute_result"
    }
   ],
   "source": [
    "total['images']['img_4380.jpg'].keys()"
   ]
  },
  {
   "cell_type": "code",
   "execution_count": null,
   "id": "ea29c530-e310-4417-b86a-77f5583662fc",
   "metadata": {},
   "outputs": [
    {
     "data": {
      "text/plain": [
       "dict_keys(['paragraphs', 'words', 'chars', 'img_w', 'img_h', 'tags', 'relations', 'annotation_log', 'license_tag'])"
      ]
     },
     "execution_count": 20,
     "metadata": {},
     "output_type": "execute_result"
    }
   ],
   "source": [
    "total['images']['20210913_004323.jpg'].keys()"
   ]
  },
  {
   "cell_type": "code",
   "execution_count": null,
   "id": "42fbf55c-38a2-42eb-87a8-65762b0734a2",
   "metadata": {},
   "outputs": [],
   "source": []
  },
  {
   "cell_type": "markdown",
   "id": "02563d97-f00d-4d41-9d33-ebc7bd0be474",
   "metadata": {},
   "source": [
    "# StratifiedKFold - Text 개수"
   ]
  },
  {
   "cell_type": "code",
   "execution_count": 241,
   "id": "8d16c93b-2632-40ef-9013-6e65561bd4b9",
   "metadata": {},
   "outputs": [],
   "source": [
    "import seaborn as sns\n",
    "import pandas as pd\n",
    "from tqdm import tqdm\n",
    "import matplotlib.pyplot as plt\n",
    "from sklearn.model_selection import StratifiedKFold\n"
   ]
  },
  {
   "cell_type": "code",
   "execution_count": 220,
   "id": "4de56b89-3e0c-4922-b3b5-394d3db06919",
   "metadata": {},
   "outputs": [
    {
     "data": {
      "text/plain": [
       "1681"
      ]
     },
     "execution_count": 220,
     "metadata": {},
     "output_type": "execute_result"
    }
   ],
   "source": [
    "data = read_json('/opt/ml/input/data/total/ufo/new_total_train.json')\n",
    "len(data['images'])"
   ]
  },
  {
   "cell_type": "code",
   "execution_count": 224,
   "id": "2084cb18-ad68-4349-b632-57afb235bc71",
   "metadata": {
    "jupyter": {
     "source_hidden": true
    },
    "tags": []
   },
   "outputs": [],
   "source": [
    "def get_box_size(quads):\n",
    "    \"\"\" 단어 영역의 사각형 좌표가 주어졌을 때 가로, 세로길이를 계산해주는 함수.\n",
    "    TODO: 각 변의 길이를 단순히 max로 처리하기때문에 직사각형에 가까운 형태가 아니면 약간 왜곡이 있다.\n",
    "    Args:\n",
    "        quads: np.ndarray(n, 4, 2) n개 단어 bounding-box의 4개 점 좌표 (단위 pixel)\n",
    "    Return:\n",
    "        sizes: np.ndarray(n, 2) n개 box의 (height, width)쌍\n",
    "    \"\"\"\n",
    "    dists = []\n",
    "    for i, j in [(1, 2), (3, 0), (0, 1), (2, 3)]: # [right(height), left(height), upper(width), lower(width)] sides\n",
    "        dists.append(np.linalg.norm(quads[:, i] - quads[:, j], ord=2, axis=1))\n",
    "\n",
    "    dists = np.stack(dists, axis=-1).reshape(-1, 2, 2) # shape (n, 2, 2) widths, heights into separate dim\n",
    "    return np.rint(dists.mean(axis=-1)).astype(int)\n",
    "\n",
    "def rectify_poly(poly, direction, img_w, img_h):\n",
    "    \"\"\"일반 polygon형태인 라벨을 크롭하고 rectify해주는 함수.\n",
    "    Args:\n",
    "        poly: np.ndarray(2n+4, 2) (where n>0), 4, 6, 8\n",
    "        image: np.ndarray opencv 포멧의 이미지\n",
    "        direction: 글자의 읽는 방향과 진행 방향의 수평(Horizontal) 혹은 수직(Vertical) 여부\n",
    "    Return:\n",
    "        rectified: np.ndarray(2, ?) rectify된 단어 bbox의 사이즈.\n",
    "    \"\"\"\n",
    "    \n",
    "    n_pts = poly.shape[0]\n",
    "    assert n_pts % 2 == 0\n",
    "    if n_pts == 4:\n",
    "        size = get_box_size(poly[None])\n",
    "        h = size[:, 0] / img_h\n",
    "        w = size[:, 1] / img_w\n",
    "        return np.stack((h,w))\n",
    "\n",
    "    def unroll(indices):\n",
    "        return list(zip(indices[:-1], indices[1:]))\n",
    "\n",
    "    # polygon하나를 인접한 사각형 여러개로 쪼갠다.\n",
    "    indices = list(range(n_pts))\n",
    "    if direction == 'Horizontal':\n",
    "        upper_pts = unroll(indices[:n_pts // 2]) # (0, 1), (1, 2), ... (4, 5)\n",
    "        lower_pts = unroll(indices[n_pts // 2:])[::-1] # (8, 9), (7, 8), ... (6, 7)\n",
    "\n",
    "        quads = np.stack([poly[[i, j, k, l]] for (i, j), (k, l) in zip(upper_pts, lower_pts)])\n",
    "    else:\n",
    "        right_pts = unroll(indices[1:n_pts // 2 + 1]) # (1, 2), (2, 3), ... (4, 5)\n",
    "        left_pts = unroll([0] + indices[:n_pts // 2:-1]) # (0, 9), (9, 8), ... (7, 6)\n",
    "\n",
    "        quads = np.stack([poly[[i, j, k, l]] for (j, k), (i, l) in zip(right_pts, left_pts)])\n",
    "\n",
    "    sizes = get_box_size(quads)\n",
    "    if direction == 'Horizontal':\n",
    "        h = sizes[:, 0].max() / img_h\n",
    "        widths = sizes[:, 1]\n",
    "        w = np.sum(widths) / img_w\n",
    "        return np.stack((h,w)).reshape(2,-1)\n",
    "        #return np.stack((h,w))\n",
    "    elif direction == 'Vertical':\n",
    "        heights = sizes[:, 0]\n",
    "        w = sizes[:, 1].max() / img_w\n",
    "        h = np.sum(heights) / img_h\n",
    "        return np.stack((h,w)).reshape(2,-1)\n",
    "    else:\n",
    "        h = sizes[:, 0] / img_h\n",
    "        w = sizes[:, 1] / img_w\n",
    "        return np.stack((h,w),-1)"
   ]
  },
  {
   "cell_type": "code",
   "execution_count": 225,
   "id": "20520df5-c401-4065-aa0a-ef7ee3e5419d",
   "metadata": {
    "jupyter": {
     "source_hidden": true
    },
    "tags": []
   },
   "outputs": [],
   "source": [
    "df = {}\n",
    "df['image'] = []\n",
    "df['word_counts'] = []\n",
    "df['image_width'] = []\n",
    "df['image_height'] = []\n",
    "df['image_tags'] = []\n",
    "img_tags = []\n",
    "\n",
    "quads = []\n",
    "polys = []\n",
    "seq_length = []\n",
    "hor_sizes = []\n",
    "ver_sizes = []\n",
    "irr_sizes = []\n",
    "languages = []\n",
    "orientation = []\n",
    "word_tags = []\n",
    "aspect_ratio = []\n",
    "ver_string = []\n",
    "\n",
    "for image_key, image_value in data[\"images\"].items():\n",
    "    df['image'].append(image_key)\n",
    "    img_w = image_value['img_w']\n",
    "    img_h = image_value['img_h']\n",
    "    df['image_width'].append(img_w)\n",
    "    df['image_height'].append(img_h)\n",
    "    df['image_tags'].append(image_value['tags'])\n",
    "    df['image_tags']= [['None'] if v is None else v for v in df['image_tags']] # our data does not inlcude multi-tag images \n",
    "    word_ann = image_value['words']\n",
    "    count_ill = 0 \n",
    "    for word in word_ann.values():\n",
    "        if word['illegibility']== False:\n",
    "            orientation.append(word['orientation'])\n",
    "            orientation = [v for v in orientation]\n",
    "            seq_length.append(len(word['transcription']))\n",
    "            languages.append(word['language'])\n",
    "            languages = [['None'] if v is None else v for v in languages] # our data does not inlcude multi-language words\n",
    "            if word['word_tags'] != None:\n",
    "                word_tags.extend(word['word_tags'][:])\n",
    "            elif word['word_tags']== None:\n",
    "                word_tags.append('None')\n",
    "            poly = np.int32(word['points'])\n",
    "            size = rectify_poly(poly, word['orientation'], img_w, img_h)\n",
    "            if word['orientation'] == 'Horizontal':\n",
    "                hor_sizes.append(size)\n",
    "            elif word['orientation'] == 'Vertical':\n",
    "                ver_sizes.append(size)\n",
    "            else:\n",
    "                irr_sizes.append(size)\n",
    "            \n",
    "        else:\n",
    "            count_ill += 1\n",
    "    df['word_counts'].append(len(word_ann)-count_ill)\n",
    "\n",
    "        \n",
    "all_sizes = hor_sizes + ver_sizes + irr_sizes\n",
    "quad_area = [all_sizes[i][0]*all_sizes[i][1] for i in range(len(all_sizes))]\n",
    "total_area = []\n",
    "for s in quad_area:\n",
    "    if s.shape[0] == 1:\n",
    "        total_area.append(np.sum(s[0])) \n",
    "    else:\n",
    "        total_area.append(np.sum(s))\n",
    "\n",
    "hor_aspect_ratio = [hor_sizes[i][1]/hor_sizes[i][0] for i in range(len(hor_sizes)) if hor_sizes[i][0]!=0]\n",
    "ver_aspect_ratio = [ver_sizes[i][1]/ver_sizes[i][0] for i in range(len(ver_sizes))]\n",
    "\n",
    "image_df = pd.DataFrame.from_dict(df)\n",
    "image_df['image_tags'] = image_df['image_tags'].apply(lambda x: ','.join(map(str, x)))\n"
   ]
  },
  {
   "cell_type": "code",
   "execution_count": 236,
   "id": "9479bbbc-ed7e-42be-a046-0e47288ac0e1",
   "metadata": {},
   "outputs": [
    {
     "name": "stderr",
     "output_type": "stream",
     "text": [
      "/opt/conda/lib/python3.8/site-packages/sklearn/model_selection/_split.py:676: UserWarning: The least populated class in y has only 1 members, which is less than n_splits=5.\n",
      "  warnings.warn(\n"
     ]
    }
   ],
   "source": [
    "folds = StratifiedKFold(n_splits=5, shuffle=True, random_state=42)\n",
    "for i, (train_index, valid_index) in enumerate(folds.split(image_df,image_df[\"word_counts\"])):\n",
    "    fold_num = i+1\n",
    "    X_train = image_df.iloc[train_index]\n",
    "    X_val = image_df.iloc[valid_index]\n"
   ]
  },
  {
   "cell_type": "code",
   "execution_count": null,
   "id": "56f26f13-5c8a-43ba-bd6b-173d6ecfd63e",
   "metadata": {},
   "outputs": [],
   "source": []
  },
  {
   "cell_type": "code",
   "execution_count": 238,
   "id": "b8e6a73b-c8f5-40f5-86a0-cb714399c568",
   "metadata": {},
   "outputs": [],
   "source": [
    "def plot_dist(df, field, bins, color, xlabel, ylabel, title):\n",
    "    sns.set(color_codes=True)\n",
    "    fig, ax = plt.subplots(figsize=(18,6))\n",
    "    sns.distplot(df[field], bins=bins, color=color, ax=ax)\n",
    "    \n",
    "    ax.set_xlabel(xlabel, fontsize=13)\n",
    "    ax.set_ylabel(ylabel, fontsize=13)\n",
    "    ax.set_title(title, fontsize=20)\n",
    "    plt.show()"
   ]
  },
  {
   "cell_type": "code",
   "execution_count": 252,
   "id": "0ecb6c39-0623-41e0-9dc4-10ab83bd831b",
   "metadata": {},
   "outputs": [
    {
     "data": {
      "text/plain": [
       "1      110\n",
       "2      117\n",
       "3      118\n",
       "4      105\n",
       "5       97\n",
       "      ... \n",
       "155      1\n",
       "159      1\n",
       "174      1\n",
       "178      1\n",
       "222      1\n",
       "Name: word_counts, Length: 93, dtype: int64"
      ]
     },
     "execution_count": 252,
     "metadata": {},
     "output_type": "execute_result"
    }
   ],
   "source": [
    "X_train['word_counts'].value_counts().sort_index()"
   ]
  },
  {
   "cell_type": "code",
   "execution_count": 253,
   "id": "014209c4-c7b6-47f8-ad38-680472d3774f",
   "metadata": {},
   "outputs": [
    {
     "data": {
      "text/plain": [
       "1      28\n",
       "2      29\n",
       "3      29\n",
       "4      26\n",
       "5      24\n",
       "       ..\n",
       "97      1\n",
       "102     1\n",
       "104     1\n",
       "109     1\n",
       "158     1\n",
       "Name: word_counts, Length: 63, dtype: int64"
      ]
     },
     "execution_count": 253,
     "metadata": {},
     "output_type": "execute_result"
    }
   ],
   "source": [
    "X_val['word_counts'].value_counts().sort_index()"
   ]
  },
  {
   "cell_type": "code",
   "execution_count": 242,
   "id": "ff0050d9-c846-469a-90d1-f69423e9b1d3",
   "metadata": {},
   "outputs": [
    {
     "name": "stderr",
     "output_type": "stream",
     "text": [
      "/opt/conda/lib/python3.8/site-packages/seaborn/distributions.py:2619: FutureWarning: `distplot` is a deprecated function and will be removed in a future version. Please adapt your code to use either `displot` (a figure-level function with similar flexibility) or `histplot` (an axes-level function for histograms).\n",
      "  warnings.warn(msg, FutureWarning)\n"
     ]
    },
    {
     "data": {
      "image/png": "[encoded data removed]",
      "text/plain": [
       "<Figure size 1296x432 with 1 Axes>"
      ]
     },
     "metadata": {},
     "output_type": "display_data"
    }
   ],
   "source": [
    "plot_dist(df=X_train, field='word_counts', bins=50, color='b', xlabel='number of words per Image', \\\n",
    "          ylabel='Frequency', title='Words per Image Distribution')"
   ]
  },
  {
   "cell_type": "code",
   "execution_count": 243,
   "id": "639bbbd8-a5c8-4129-82e2-8958594947bf",
   "metadata": {},
   "outputs": [
    {
     "name": "stderr",
     "output_type": "stream",
     "text": [
      "/opt/conda/lib/python3.8/site-packages/seaborn/distributions.py:2619: FutureWarning: `distplot` is a deprecated function and will be removed in a future version. Please adapt your code to use either `displot` (a figure-level function with similar flexibility) or `histplot` (an axes-level function for histograms).\n",
      "  warnings.warn(msg, FutureWarning)\n"
     ]
    },
    {
     "data": {
      "image/png": "[encoded data removed]",
      "text/plain": [
       "<Figure size 1296x432 with 1 Axes>"
      ]
     },
     "metadata": {},
     "output_type": "display_data"
    }
   ],
   "source": [
    "plot_dist(df=X_val, field='word_counts', bins=50, color='b', xlabel='number of words per Image', \\\n",
    "          ylabel='Frequency', title='Words per Image Distribution')"
   ]
  },
  {
   "cell_type": "code",
   "execution_count": 245,
   "id": "713486bc-6548-40f5-baf8-07799e99f026",
   "metadata": {},
   "outputs": [
    {
     "data": {
      "text/plain": [
       "336"
      ]
     },
     "execution_count": 245,
     "metadata": {},
     "output_type": "execute_result"
    }
   ],
   "source": []
  },
  {
   "cell_type": "code",
   "execution_count": 258,
   "id": "5533e81f-21d6-4fad-8b92-256e1888b87e",
   "metadata": {},
   "outputs": [],
   "source": [
    "def stratified_data_split(total_data,train_df, val_df):\n",
    "    ann = deepcopy(total_data)\n",
    "    \n",
    "    random.seed(42)\n",
    "    \n",
    "    val_ann = {}\n",
    "    val_ann['images'] = {}\n",
    "    \n",
    "    val_imgs = val_df['image'].values\n",
    "    \n",
    "    for f in val_imgs:\n",
    "        data = ann['images'][f]\n",
    "        val_ann['images'][f] = data\n",
    "\n",
    "        ann['images'].pop(f)\n",
    "        \n",
    "    return ann, val_ann"
   ]
  },
  {
   "cell_type": "code",
   "execution_count": 260,
   "id": "614085d4-6000-4267-a9ad-5ec435111dc0",
   "metadata": {},
   "outputs": [],
   "source": [
    "train_ann, val_ann = stratified_data_split(data,X_train, X_val)"
   ]
  },
  {
   "cell_type": "code",
   "execution_count": 263,
   "id": "93f8e1a0-c688-4cd8-82b5-e271bf1cb3ca",
   "metadata": {},
   "outputs": [
    {
     "data": {
      "text/plain": [
       "(1345, 336)"
      ]
     },
     "execution_count": 263,
     "metadata": {},
     "output_type": "execute_result"
    }
   ],
   "source": [
    "len(train_ann['images']), len(val_ann['images'])"
   ]
  },
  {
   "cell_type": "code",
   "execution_count": 266,
   "id": "65c3b769-5a04-4c37-8fe6-edefc864e566",
   "metadata": {},
   "outputs": [
    {
     "data": {
      "text/plain": [
       "(1345, 336)"
      ]
     },
     "execution_count": 266,
     "metadata": {},
     "output_type": "execute_result"
    }
   ],
   "source": [
    "X_train.shape[0], X_val.shape[0]"
   ]
  },
  {
   "cell_type": "code",
   "execution_count": 269,
   "id": "6169caf3-eb6e-47b1-b1a3-48a521396838",
   "metadata": {},
   "outputs": [],
   "source": [
    "path = '/opt/ml/input/data/total/ufo/'"
   ]
  },
  {
   "cell_type": "code",
   "execution_count": 270,
   "id": "14efef98-5869-424e-b249-1d3fd7a92827",
   "metadata": {},
   "outputs": [
    {
     "name": "stdout",
     "output_type": "stream",
     "text": [
      "saved\n",
      "saved\n"
     ]
    }
   ],
   "source": [
    "write_json(train_ann, 'cv_stratified_train.json', path)\n",
    "write_json(val_ann, 'cv_stratified_val.json', path)"
   ]
  },
  {
   "cell_type": "code",
   "execution_count": 271,
   "id": "78705b9b-3d8f-403d-bb8c-8beda9ee551b",
   "metadata": {},
   "outputs": [
    {
     "data": {
      "text/plain": [
       "1344"
      ]
     },
     "execution_count": 271,
     "metadata": {},
     "output_type": "execute_result"
    },
    {
     "name": "stderr",
     "output_type": "stream",
     "text": [
      "Error in atexit._run_exitfuncs:\n",
      "Traceback (most recent call last):\n",
      "  File \"/opt/conda/lib/python3.8/site-packages/IPython/core/interactiveshell.py\", line 3810, in atexit_operations\n",
      "    self.reset(new_session=False)\n",
      "  File \"/opt/conda/lib/python3.8/site-packages/IPython/core/interactiveshell.py\", line 1421, in reset\n",
      "    self.history_manager.reset(new_session)\n",
      "  File \"/opt/conda/lib/python3.8/site-packages/IPython/core/history.py\", line 592, in reset\n",
      "    self.dir_hist[:] = [os.getcwd()]\n",
      "FileNotFoundError: [Errno 2] No such file or directory\n"
     ]
    }
   ],
   "source": [
    "32*42"
   ]
  },
  {
   "cell_type": "code",
   "execution_count": null,
   "id": "099ff841-2be0-4f1c-940d-da7d5e590148",
   "metadata": {},
   "outputs": [],
   "source": []
  }
 ],
 "metadata": {
  "kernelspec": {
   "display_name": "Python 3 (ipykernel)",
   "language": "python",
   "name": "python3"
  },
  "language_info": {
   "codemirror_mode": {
    "name": "ipython",
    "version": 3
   },
   "file_extension": ".py",
   "mimetype": "text/x-python",
   "name": "python",
   "nbconvert_exporter": "python",
   "pygments_lexer": "ipython3",
   "version": "3.8.5"
  }
 },
 "nbformat": 4,
 "nbformat_minor": 5
}
