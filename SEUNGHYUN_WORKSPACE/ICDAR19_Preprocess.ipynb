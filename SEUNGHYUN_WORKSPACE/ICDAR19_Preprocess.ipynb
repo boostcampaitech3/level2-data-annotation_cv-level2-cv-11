{
 "cells": [
  {
   "cell_type": "code",
   "execution_count": 73,
   "id": "6677a8ca-ffdd-44bb-a308-f722fa97f0ff",
   "metadata": {},
   "outputs": [],
   "source": [
    "import os\n",
    "import json\n",
    "import shutil\n",
    "from glob import glob\n",
    "from tqdm import tqdm"
   ]
  },
  {
   "cell_type": "code",
   "execution_count": 50,
   "id": "3c7fbd29-91aa-455d-b8bc-955559592b79",
   "metadata": {},
   "outputs": [],
   "source": [
    "def write_json(data, filename, savepath):\n",
    "    with open(os.path.join(savepath, filename), \"w\") as json_file:\n",
    "        json.dump(data, json_file)\n",
    "        print('saved')"
   ]
  },
  {
   "cell_type": "code",
   "execution_count": 11,
   "id": "8ffdb986-eb29-42ad-ba16-587aa632cb16",
   "metadata": {},
   "outputs": [],
   "source": [
    "for i in glob('/opt/ml/ICDAR19/raw/*.txt'):\n",
    "    os.remove(i)"
   ]
  },
  {
   "cell_type": "code",
   "execution_count": 35,
   "id": "a442109a-e87d-40a4-9e8a-1e788f1e0ec8",
   "metadata": {},
   "outputs": [],
   "source": [
    "with open('/opt/ml/ICDAR19/new/ufo/train.json', 'r') as j:\n",
    "    ann = json.load(j)\n",
    "    \n",
    "with open('/opt/ml/ICDAR19/icdar17/ufo/train.json', 'r') as j:\n",
    "    icdar17 = json.load(j)"
   ]
  },
  {
   "cell_type": "code",
   "execution_count": 36,
   "id": "a0ecb118-cf24-4fd9-bfd7-66f8a9fc26a8",
   "metadata": {},
   "outputs": [
    {
     "data": {
      "text/plain": [
       "(10000, 535)"
      ]
     },
     "execution_count": 36,
     "metadata": {},
     "output_type": "execute_result"
    }
   ],
   "source": [
    "len(ann['images']), len(icdar17['images'])"
   ]
  },
  {
   "cell_type": "code",
   "execution_count": 46,
   "id": "6ef829ac-0c27-4b1c-b91d-df4b42202ed9",
   "metadata": {},
   "outputs": [],
   "source": [
    "from copy import deepcopy"
   ]
  },
  {
   "cell_type": "code",
   "execution_count": 47,
   "id": "7048ff7f-00fc-4637-8695-f6b8e89c6369",
   "metadata": {},
   "outputs": [],
   "source": [
    "counter=0\n",
    "new_ann = deepcopy(ann)\n",
    "for i in ann['images']:\n",
    "    if i in icdar17['images'].keys():\n",
    "        new_ann['images'].pop(i)\n"
   ]
  },
  {
   "cell_type": "code",
   "execution_count": 58,
   "id": "d054a808-bbc0-4386-acb6-e6f89e65ad9e",
   "metadata": {},
   "outputs": [
    {
     "data": {
      "text/plain": [
       "9465"
      ]
     },
     "execution_count": 58,
     "metadata": {},
     "output_type": "execute_result"
    }
   ],
   "source": [
    "len(new_ann['images'])"
   ]
  },
  {
   "cell_type": "code",
   "execution_count": 51,
   "id": "dc041123-19fe-4126-9968-18c2a3b97720",
   "metadata": {},
   "outputs": [
    {
     "name": "stdout",
     "output_type": "stream",
     "text": [
      "saved\n"
     ]
    }
   ],
   "source": [
    "write_json(new_ann, 'icdar19.json', '/opt/ml/level2-data-annotation_cv-level2-cv-11/SEUNGHYUN_WORKSPACE/data')\n"
   ]
  },
  {
   "cell_type": "code",
   "execution_count": 62,
   "id": "c762c6e4-38aa-43e7-a6b1-bfdbd003b915",
   "metadata": {},
   "outputs": [],
   "source": [
    "with open('/opt/ml/level2-data-annotation_cv-level2-cv-11/SEUNGHYUN_WORKSPACE/data/new_total_train.json', 'r') as j:\n",
    "    total = json.load(j)\n",
    "    "
   ]
  },
  {
   "cell_type": "code",
   "execution_count": 59,
   "id": "3c97041e-8dac-46b6-bf9e-e93771cca5e2",
   "metadata": {},
   "outputs": [],
   "source": [
    "total['images'].update(new_ann['images'])"
   ]
  },
  {
   "cell_type": "code",
   "execution_count": 63,
   "id": "38f75cfa-2b4c-48f5-a8a6-387a8cf04a75",
   "metadata": {},
   "outputs": [
    {
     "data": {
      "text/plain": [
       "1681"
      ]
     },
     "execution_count": 63,
     "metadata": {},
     "output_type": "execute_result"
    }
   ],
   "source": [
    "len(total['images'])"
   ]
  },
  {
   "cell_type": "code",
   "execution_count": 64,
   "id": "f2eefd86-dc96-4dae-8e43-8b2666c26f5c",
   "metadata": {},
   "outputs": [
    {
     "data": {
      "text/plain": [
       "11146"
      ]
     },
     "execution_count": 64,
     "metadata": {},
     "output_type": "execute_result"
    }
   ],
   "source": [
    "9465+1681"
   ]
  },
  {
   "cell_type": "code",
   "execution_count": 77,
   "id": "9e7c1d9d-c4c2-42fb-8811-de2b3e4baac9",
   "metadata": {
    "tags": []
   },
   "outputs": [
    {
     "name": "stderr",
     "output_type": "stream",
     "text": [
      "100%|██████████| 10000/10000 [00:03<00:00, 2708.97it/s]\n"
     ]
    }
   ],
   "source": [
    "for i in tqdm(glob('/opt/ml/input/data/ICDAR19/images/*'), total=10000):\n",
    "    shutil.copy(i, '/opt/ml/input/data/total/images/')"
   ]
  },
  {
   "cell_type": "code",
   "execution_count": null,
   "id": "11723cd2-b3af-4a27-acb2-44813ff599da",
   "metadata": {},
   "outputs": [],
   "source": []
  },
  {
   "cell_type": "code",
   "execution_count": 83,
   "id": "8a9a9d01-611f-484a-a5a0-5776c8119b97",
   "metadata": {},
   "outputs": [],
   "source": [
    "with open('/opt/ml/input/data/total/ufo/icdar19_and_total.json') as j:\n",
    "    total = json.load(j)\n",
    "    "
   ]
  },
  {
   "cell_type": "code",
   "execution_count": 84,
   "id": "90e69215-81b3-4078-acb0-b20741ec6875",
   "metadata": {},
   "outputs": [
    {
     "data": {
      "text/plain": [
       "11146"
      ]
     },
     "execution_count": 84,
     "metadata": {},
     "output_type": "execute_result"
    }
   ],
   "source": [
    "len(total['images'])"
   ]
  },
  {
   "cell_type": "code",
   "execution_count": 85,
   "id": "44b67b0e-9d2d-4f57-9db7-f62daad2204c",
   "metadata": {},
   "outputs": [],
   "source": [
    "with open('/opt/ml/level2-data-annotation_cv-level2-cv-11/SEUNGHYUN_WORKSPACE/data/icdar19.json') as j:\n",
    "    ic19 = json.load(j)\n",
    "    "
   ]
  },
  {
   "cell_type": "code",
   "execution_count": 86,
   "id": "73267a89-a784-4280-bd1d-d7d345edb69d",
   "metadata": {},
   "outputs": [
    {
     "data": {
      "text/plain": [
       "9465"
      ]
     },
     "execution_count": 86,
     "metadata": {},
     "output_type": "execute_result"
    }
   ],
   "source": [
    "len(ic19['images'])"
   ]
  },
  {
   "cell_type": "code",
   "execution_count": null,
   "id": "5990533e-3427-47b8-9ba9-753ed94df0a4",
   "metadata": {},
   "outputs": [],
   "source": []
  }
 ],
 "metadata": {
  "kernelspec": {
   "display_name": "Python 3 (ipykernel)",
   "language": "python",
   "name": "python3"
  },
  "language_info": {
   "codemirror_mode": {
    "name": "ipython",
    "version": 3
   },
   "file_extension": ".py",
   "mimetype": "text/x-python",
   "name": "python",
   "nbconvert_exporter": "python",
   "pygments_lexer": "ipython3",
   "version": "3.8.5"
  }
 },
 "nbformat": 4,
 "nbformat_minor": 5
}
