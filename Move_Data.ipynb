{
 "cells": [
  {
   "cell_type": "code",
   "execution_count": 7,
   "id": "089aea27-39e4-4530-8527-54459805e1bf",
   "metadata": {},
   "outputs": [],
   "source": [
    "from glob import glob\n",
    "import shutil\n",
    "from tqdm import tqdm"
   ]
  },
  {
   "cell_type": "code",
   "execution_count": 4,
   "id": "793c2795-0e46-43a6-97ad-dbdaec662758",
   "metadata": {},
   "outputs": [],
   "source": [
    "input1 = glob('/opt/ml/input/data/ICDAR17_Korean/images/*')\n",
    "input2 = glob('/opt/ml/input2/images/*')"
   ]
  },
  {
   "cell_type": "code",
   "execution_count": 14,
   "id": "27fdd680-30cd-466a-99e7-f3b7d7230d60",
   "metadata": {},
   "outputs": [
    {
     "name": "stderr",
     "output_type": "stream",
     "text": [
      "100%|██████████| 1824/1824 [00:04<00:00, 454.81it/s]\n"
     ]
    }
   ],
   "source": [
    "for path in tqdm(input1+input2, total=len(input1+input2)):\n",
    "    fname = path.split('/')[-1]\n",
    "    shutil.copy(path, '/opt/ml/total/images/')"
   ]
  },
  {
   "cell_type": "code",
   "execution_count": null,
   "id": "2e3bbd83-5bcd-481e-81de-86d04bdb5444",
   "metadata": {},
   "outputs": [],
   "source": []
  }
 ],
 "metadata": {
  "kernelspec": {
   "display_name": "Python 3 (ipykernel)",
   "language": "python",
   "name": "python3"
  },
  "language_info": {
   "codemirror_mode": {
    "name": "ipython",
    "version": 3
   },
   "file_extension": ".py",
   "mimetype": "text/x-python",
   "name": "python",
   "nbconvert_exporter": "python",
   "pygments_lexer": "ipython3",
   "version": "3.8.5"
  }
 },
 "nbformat": 4,
 "nbformat_minor": 5
}
